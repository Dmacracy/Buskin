{
 "cells": [
  {
   "cell_type": "code",
   "execution_count": 1,
   "metadata": {},
   "outputs": [
    {
     "name": "stderr",
     "output_type": "stream",
     "text": [
      "[nltk_data] Downloading package stopwords to /home/dmac/nltk_data...\n",
      "[nltk_data]   Package stopwords is already up-to-date!\n"
     ]
    },
    {
     "data": {
      "text/plain": [
       "<spacy.lang.en.English at 0x7f5948b66910>"
      ]
     },
     "execution_count": 1,
     "metadata": {},
     "output_type": "execute_result"
    }
   ],
   "source": [
    "# Imports \n",
    "import time\n",
    "import os\n",
    "import re\n",
    "import json\n",
    "import collections\n",
    "\n",
    "import nltk\n",
    "nltk.download('stopwords')\n",
    "from nltk.corpus import stopwords\n",
    "\n",
    "# Load your usual SpaCy model (one of SpaCy English models)\n",
    "import spacy\n",
    "nlp = spacy.load('en')\n",
    "\n",
    "# Add neural coref to SpaCy's pipe\n",
    "import neuralcoref\n",
    "neuralcoref.add_to_pipe(nlp, blacklist=False)"
   ]
  },
  {
   "cell_type": "code",
   "execution_count": null,
   "metadata": {},
   "outputs": [],
   "source": [
    "# import torch\n",
    "# from transformers import AutoTokenizer, AutoModelForTokenClassification\n",
    "# from transformers import pipeline \n",
    "\n",
    "# tokenizer = AutoTokenizer.from_pretrained(\"vblagoje/bert-english-uncased-finetuned-pos\")\n",
    "\n",
    "# model = AutoModelForTokenClassification.from_pretrained(\"vblagoje/bert-english-uncased-finetuned-pos\")\n",
    "\n",
    "# nlp_token_class = pipeline('ner', model=model, tokenizer=tokenizer, grouped_entities=True)"
   ]
  },
  {
   "cell_type": "code",
   "execution_count": 56,
   "metadata": {},
   "outputs": [],
   "source": [
    "'''\n",
    "A class reresenting a mention of some entity. \n",
    "It consists of a text string, starting and ending indices\n",
    "of the text span and a paragraph and sentence id. \n",
    "'''\n",
    "class Mention:\n",
    "    def __init__(self, text, start, end, par_id, sent_id):\n",
    "        self.text =  text\n",
    "        self.start = start\n",
    "        self.end = end\n",
    "        self.par_id = par_id\n",
    "        self.sent_id = sent_id\n",
    "        self.POS = []\n",
    "        self.deps = set()\n",
    "        \n",
    "    def __repr__(self):\n",
    "        rep = \"Mention in par \" + str(self.par_id) + \" Sentence \" \\\n",
    "              + str(self.sent_id) + \" text:\\n\" + self.text\n",
    "        return rep\n",
    "\n",
    "'''\n",
    "A class reresenting a character. \n",
    "It consists of a list of mentions, a set of aliases, \n",
    "a list of verbs that the character is the actor of (agent),\n",
    "a list of verbs that the character is the receiver of (patient),\n",
    "a list of adjectives that the character is described with (description).  \n",
    "'''\n",
    "class Character:\n",
    "    def __init__(self, book, mainName):\n",
    "        self.book = book\n",
    "        self.mainName = mainName\n",
    "        self.mentions = []\n",
    "        self.aliases = set()\n",
    "        self.agent = {}\n",
    "        self.patient = []\n",
    "        self.description = []\n",
    "        \n",
    "    def __repr__(self):\n",
    "        rep = \"Character: \" + self.mainName + \"\\n\"\n",
    "        return rep\n",
    "    \n",
    "    '''\n",
    "    Add a mention of the character to a list of mentions.\n",
    "    '''\n",
    "    def update_mention(self, mention):\n",
    "        self.mentions.append(mention)\n",
    "        self.aliases.update([mention.text.lower()])\n",
    "        \n",
    "    '''\n",
    "    Match POS tags with character mentions\n",
    "    '''\n",
    "    def get_POS(self):\n",
    "        for mention in self.mentions:\n",
    "            span = range(mention.start, mention.end)\n",
    "            for loc in span:\n",
    "                mention.POS.append(self.book.pars[mention.par_id].POS_tags[loc])\n",
    "                mention.deps.update([mention.POS[-1]['dep']])\n",
    "                \n",
    "    '''\n",
    "    Function to find the verbs in sentences in which the character is mentioned \n",
    "    as the nsubj.\n",
    "    '''\n",
    "    def get_agent_verbs(self):\n",
    "        for mention in self.mentions:\n",
    "            verb = None\n",
    "            if 'nsubj' in mention.deps:\n",
    "                sent_POS_parse = self.book.pars[mention.par_id].sents[mention.sent_id].POS_tags\n",
    "                for POS in sent_POS_parse:\n",
    "                    if POS['dep'] == 'ROOT':\n",
    "                        verb = POS['text']\n",
    "                        # Get location tuple (paragraph, sentence, local idx)\n",
    "                        global_loc = (mention.par_id, mention.sent_id, POS['loc'])\n",
    "                if verb:\n",
    "                    self.agent[global_loc] = verb\n",
    "                    \n",
    "        \n",
    "\n",
    "class Sentence:\n",
    "    def __init__(self, book, par, text, sent_id, bound):\n",
    "        # Parent objects\n",
    "        self.book = book\n",
    "        self.par = par\n",
    "        # starting and ending boundary for the sentence (relative to the paragraph)\n",
    "        self.start = bound[0]\n",
    "        self.end = bound[1]\n",
    "        # Global starting and ending indices\n",
    "        self.globalStart = self.par.start + self.start\n",
    "        self.globalEnd = self.par.start + self.end \n",
    "        self.text = text\n",
    "        self.sent_id = sent_id\n",
    "        self.POS_tags = []\n",
    "        \n",
    "    def __repr__(self):\n",
    "        rep = self.book.fileName + \"\\nParagraph \" + str(self.par.par_id) \\\n",
    "        + \"\\nSentence \" + str(self.sent_id) + \" start \" + str(self.start) \\\n",
    "        + \" end \" + str(self.end) + \"\\ntext:\\n\" + self.text\n",
    "        return rep\n",
    "        \n",
    "'''\n",
    "A class for a paragraph.\n",
    "'''\n",
    "class Paragraph:\n",
    "    def __init__(self, book, text, par_id, bound):\n",
    "        # Starting and ending indices for the paragraph\n",
    "        self.start = bound[0]\n",
    "        self.end = bound[1]\n",
    "        # Refers to book parent object\n",
    "        self.book = book\n",
    "        # paragraph text\n",
    "        self.text = text\n",
    "        # paragraph index\n",
    "        self.par_id = par_id\n",
    "        # bool idnicating whether coref wroked\n",
    "        self.has_coref = False\n",
    "        # coref cluster list\n",
    "        self.coref_clusts = []\n",
    "        # list of sentences\n",
    "        self.sents = []\n",
    "        self.sent_bounds = []\n",
    "        self.POS_tags = []\n",
    "        \n",
    "    def __repr__(self):\n",
    "        rep = self.book.fileName + \"\\nParagraph \" + str(self.par_id) + \"\\ntext:\\n\" + self.text\n",
    "        return rep\n",
    "    \n",
    "    '''\n",
    "    Split text into sentences\n",
    "    '''\n",
    "    def parse_into_sentences(self):\n",
    "        doc = nlp(self.text)\n",
    "        sentences = [sent for sent in doc.sents]\n",
    "        self.sents = [Sentence(self.book, self, sent.text, \n",
    "                               sent_id, (sent.start, sent.end)) \n",
    "                      for sent_id, sent in enumerate(sentences)]\n",
    "        \n",
    "    def run_coref_POS(self):\n",
    "        # Get coreference tags:\n",
    "        doc = nlp(self.text)\n",
    "        # Update whether the coref parser returned results\n",
    "        self.has_coref = doc._.has_coref\n",
    "        if doc._.has_coref:\n",
    "            self.coref_clusts = doc._.coref_clusters\n",
    "            self.book.parse_coref_clusts(self)\n",
    "        # Get POS tags:\n",
    "\n",
    "        # this uses the pretrained BERT model:\n",
    "        # book[idx][\"POS_tags\"] = nlp_token_class(sentence)\n",
    "\n",
    "        # For now we will use Spacy pos tagging because it gives us more fine-grained labels:\n",
    "        self.POS_tags = []\n",
    "        # Add POS tags to list for paragraph and for each individual sentence\n",
    "        for token_id in range(len(doc)):\n",
    "            token = doc[token_id]\n",
    "            sent_id = 0\n",
    "            for sent in self.sents:\n",
    "                if ((token_id >= sent.start) and (token_id <= sent.end)):\n",
    "                        sent_id = sent.sent_id\n",
    "            self.sents[sent_id].POS_tags.append({\n",
    "                'loc' : token_id,\n",
    "                'text' : token.text,\n",
    "                'lemma' : token.lemma_,\n",
    "                'pos' : token.pos_, \n",
    "                'tag' : token.tag_, \n",
    "                'dep' : token.dep_})\n",
    "            self.POS_tags.append({\n",
    "                'loc' : token_id,\n",
    "                'text' : token.text,\n",
    "                'lemma' : token.lemma_,\n",
    "                'pos' : token.pos_, \n",
    "                'tag' : token.tag_, \n",
    "                'dep' : token.dep_})\n",
    "\n",
    "'''\n",
    "A class representing a book.\n",
    "'''        \n",
    "class Book:\n",
    "    def __init__(self, dataPath, fileName):\n",
    "        self.dataPath = dataPath\n",
    "        self.fileName = fileName\n",
    "        self.text = ''\n",
    "        self.characters = {}\n",
    "        self.pars = []\n",
    "        self.read_file()\n",
    "    \n",
    "    '''\n",
    "    Read the text of the book from a txt file.\n",
    "    '''\n",
    "    def read_file(self):\n",
    "        with open(os.path.join(self.dataPath, self.fileName), \"r\") as txtFile:\n",
    "            self.text = txtFile.read()\n",
    "        \n",
    "    '''\n",
    "    Break the text into paragraphs.\n",
    "    '''\n",
    "    def parse_into_pars(self):\n",
    "        # split on newlines followed by space\n",
    "        pars = re.split('\\n\\s', self.text)   \n",
    "        par_bounds = [0]\n",
    "        par_bounds += [m.start(0) for m in re.finditer('\\n\\s', self.text)]\n",
    "        par_bounds.append(len(self.text) - 1)\n",
    "        # Replace newline chars\n",
    "        pars = [par.replace(\"\\n\", \" \") for par in pars]\n",
    "        # Remove empty pars\n",
    "        pars = [par for par in pars if len(par) > 0]\n",
    "        # Convert each paragraph into a Paragraph\n",
    "        self.pars = [Paragraph(self, par, par_id, (par_bounds[par_id],\n",
    "                                                   par_bounds[par_id+1])) \n",
    "                     for par_id, par in enumerate(pars)]\n",
    "        \n",
    "    '''\n",
    "    Parse the coreference clusters returned from the parsing of a paragraph\n",
    "    '''\n",
    "    def parse_coref_clusts(self, par):\n",
    "        clustList = par.coref_clusts\n",
    "        # Iterate over the coreference clusters\n",
    "        for idx, cluster in enumerate(clustList):\n",
    "            # get the main cluster identity\n",
    "            mainSpan = cluster.main.text.lower()\n",
    "            # If a character object does not yet exist, create one\n",
    "            if mainSpan not in self.characters:\n",
    "                character = Character(self, mainSpan)\n",
    "                # Add it to the dict of characters\n",
    "                self.characters[mainSpan] = character\n",
    "            # Otherwsie find the character referred to here\n",
    "            else:\n",
    "                character = self.characters[mainSpan] \n",
    "            for mention in cluster.mentions:\n",
    "                # figure out which sentence the mention belongs to\n",
    "                sent_id = 0\n",
    "                for sent in par.sents:\n",
    "                    if ((mention.start >= sent.start) and (mention.end <= sent.end)):\n",
    "                        sent_id = sent.sent_id\n",
    "                # create a mention object and add it to the character object\n",
    "                mention = Mention(mention.text, mention.start, mention.end, par.par_id, sent_id)\n",
    "                character.update_mention(mention)\n",
    "                \n",
    "    def parse_text(self):\n",
    "        self.parse_into_pars()\n",
    "        for par in self.pars:\n",
    "            par.parse_into_sentences()\n",
    "            par.run_coref_POS()\n",
    "        for characterName, character in self.characters.items():\n",
    "            character.get_POS()\n",
    "            character.get_agent_verbs()"
   ]
  },
  {
   "cell_type": "code",
   "execution_count": 57,
   "metadata": {},
   "outputs": [],
   "source": [
    "# Define Paths and fileNames:\n",
    "dataPath = \"../../Data/\"\n",
    "fileName = \"Herman Melville___Bartleby, The Scrivener.txt\"\n",
    "stopwordsFileName = \"StopWords/jockers.stopwords\"\n",
    "outFileName = 'Herman Melville___Bartleby, The Scrivener_sentences.json'"
   ]
  },
  {
   "cell_type": "code",
   "execution_count": 58,
   "metadata": {},
   "outputs": [],
   "source": [
    "b = Book(dataPath, fileName)\n",
    "b.parse_text()"
   ]
  },
  {
   "cell_type": "code",
   "execution_count": 59,
   "metadata": {},
   "outputs": [
    {
     "data": {
      "text/plain": [
       "Herman Melville___Bartleby, The Scrivener.txt\n",
       "Paragraph 27\n",
       "text:\n",
       "A few days after this, Bartleby concluded four lengthy documents, being quadruplicates of a week's testimony taken before me in my High Court of Chancery.  It became necessary to examine them.  It was an important suit, and great accuracy was imperative.  Having all things arranged I called Turkey, Nippers and Ginger Nut from the next room, meaning to place the four copies in the hands of my four clerks, while I should read from the original.  Accordingly Turkey, Nippers and Ginger Nut had taken their seats in a row, each with his document in hand, when I called to Bartleby to join this interesting group."
      ]
     },
     "execution_count": 59,
     "metadata": {},
     "output_type": "execute_result"
    }
   ],
   "source": [
    "b.pars[27]"
   ]
  },
  {
   "cell_type": "code",
   "execution_count": 60,
   "metadata": {},
   "outputs": [],
   "source": [
    "Bart_mentions = b.characters['bartleby'].mentions\n",
    "bart_sent_mentions = [b.pars[mention.par_id].sents[mention.sent_id].text for mention in Bart_mentions]"
   ]
  },
  {
   "cell_type": "code",
   "execution_count": 64,
   "metadata": {},
   "outputs": [
    {
     "data": {
      "text/plain": [
       "['While of other law-copyists I might write the complete life, of Bartleby nothing of that sort can be done.',\n",
       " 'Bartleby was one of those beings of whom nothing is ascertainable, except from the original sources, and in his case those are very small.  ',\n",
       " 'Bartleby was one of those beings of whom nothing is ascertainable, except from the original sources, and in his case those are very small.  ',\n",
       " 'What my own astonished eyes saw of Bartleby, _that_ is all I know of him, except, indeed, one vague report which will appear in the sequel.',\n",
       " 'I resolved to assign Bartleby a corner by the folding-doors, but on my side of them, so as to have this quiet man within easy call,',\n",
       " 'Still further to a satisfactory arrangement, I procured a high green folding screen, which might entirely isolate Bartleby from my sight, though not remove him from my voice.  ',\n",
       " 'Still further to a satisfactory arrangement, I procured a high green folding screen, which might entirely isolate Bartleby from my sight, though not remove him from my voice.  ',\n",
       " 'In my haste and natural expectancy of instant compliance, I sat with my head bent over the original on my desk, and my right hand sideways, and somewhat nervously extended with the copy, so that immediately upon emerging from his retreat, Bartleby might snatch it and proceed to business without the least delay.',\n",
       " 'In my haste and natural expectancy of instant compliance, I sat with my head bent over the original on my desk, and my right hand sideways, and somewhat nervously extended with the copy, so that immediately upon emerging from his retreat, Bartleby might snatch it and proceed to business without the least delay.',\n",
       " \"A few days after this, Bartleby concluded four lengthy documents, being quadruplicates of a week's testimony taken before me in my High Court of Chancery.  \",\n",
       " 'It became necessary to examine them.  ',\n",
       " 'It was an important suit, and great accuracy was imperative.  ',\n",
       " 'Accordingly Turkey, Nippers and Ginger Nut had taken their seats in a row, each with his document in hand, when I called to Bartleby to join this interesting group.',\n",
       " 'Meanwhile Bartleby sat in his hermitage, oblivious to every thing but his own peculiar business there.',\n",
       " 'Meanwhile Bartleby sat in his hermitage, oblivious to every thing but his own peculiar business there.',\n",
       " 'Meanwhile Bartleby sat in his hermitage, oblivious to every thing but his own peculiar business there.',\n",
       " 'Was Bartleby hot and spicy?  ',\n",
       " 'Ginger, then, had no effect upon Bartleby.',\n",
       " 'I closed the doors, and again advanced towards Bartleby.  ',\n",
       " 'I remembered that Bartleby never left the office.',\n",
       " 'As days passed on, I became considerably reconciled to Bartleby.  ',\n",
       " \"For it was exceeding difficult to bear in mind all the time those strange peculiarities, privileges, and unheard of exemptions, forming the tacit stipulations on Bartleby's part under which he remained in my office.  \",\n",
       " 'Now and then, in the eagerness of dispatching pressing business, I would inadvertently summon Bartleby, in a short, rapid tone, to put his finger, say, on the incipient tie of a bit of red tape with which I was about compressing some papers.  ',\n",
       " 'Furthermore, I was full of uneasiness as to what Bartleby could possibly be doing in my office in his shirt sleeves, and in an otherwise dismantled condition of a Sunday morning.  ',\n",
       " 'It was not to be thought of for a moment that Bartleby was an immoral person.  ',\n",
       " ', Bartleby was an eminently decorous person.  ',\n",
       " 'Besides, it was Sunday; and there was something about Bartleby that forbade the supposition that he would by any secular occupation',\n",
       " 'Bartleby was not to be seen.  ',\n",
       " 'I looked round anxiously, peeped behind his screen; but it was very plain that he was gone.  ',\n",
       " 'I looked round anxiously, peeped behind his screen; but it was very plain that he was gone.  ',\n",
       " 'Upon more closely examining the place, I surmised that for an indefinite period Bartleby must have ate, dressed, and slept in my office, and that too without plate, mirror, or bed.  ',\n",
       " \"Yes, thought I, it is evident enough that Bartleby has been making his home here, keeping bachelor's hall all by himself.\",\n",
       " \"Yes, thought I, it is evident enough that Bartleby has been making his home here, keeping bachelor's hall all by himself.\",\n",
       " \"Yes, thought I, it is evident enough that Bartleby has been making his home here, keeping bachelor's hall all by himself.\",\n",
       " 'His poverty is great; but his solitude, how horrible!  ',\n",
       " 'His poverty is great; but his solitude, how horrible!  ',\n",
       " 'And here Bartleby makes his home; sole spectator of a solitude which he has seen all populous--a sort of innocent and transformed Marius brooding among the ruins of Carthage!',\n",
       " 'And here Bartleby makes his home; sole spectator of a solitude which he has seen all populous--a sort of innocent and transformed Marius brooding among the ruins of Carthage!',\n",
       " 'And here Bartleby makes his home; sole spectator of a solitude which he has seen all populous--a sort of innocent and transformed Marius brooding among the ruins of Carthage!',\n",
       " 'At last, familiarly drawing my chair behind his screen, I sat down and said: \"Bartleby, never mind then about revealing your history; but let me entreat you, as a friend, to comply as far as may be with the usages of this office.  ',\n",
       " 'so, Bartleby.\"',\n",
       " '\"I would prefer to be left alone here,\" said Bartleby, as if offended at being mobbed in his privacy.',\n",
       " '\"I would prefer to be left alone here,\" said Bartleby, as if offended at being mobbed in his privacy.',\n",
       " 'The next day I noticed that Bartleby did nothing but stand at his window in his dead-wall revery.  ',\n",
       " 'The next day I noticed that Bartleby did nothing but stand at his window in his dead-wall revery.  ',\n",
       " 'The next day I noticed that Bartleby did nothing but stand at his window in his dead-wall revery.  ',\n",
       " 'Upon asking him why he did not write, he said that he had decided upon doing no more writing.',\n",
       " 'Upon asking him why he did not write, he said that he had decided upon doing no more writing.',\n",
       " 'Upon asking him why he did not write, he said that he had decided upon doing no more writing.',\n",
       " 'Upon asking him why he did not write, he said that he had decided upon doing no more writing.',\n",
       " \"Whether Bartleby's eyes improved or not, I could not say.  \",\n",
       " 'But when I asked him if they did, he vouchsafed no answer.  ',\n",
       " 'But when I asked him if they did, he vouchsafed no answer.  ',\n",
       " 'At all events, he would do no copying.  ',\n",
       " 'At last, in reply to my urgings, he informed me that he had permanently given up copying.',\n",
       " 'At last, in reply to my urgings, he informed me that he had permanently given up copying.',\n",
       " \"Decently as I could, I told Bartleby that in six days' time he must unconditionally leave the office.  \",\n",
       " \"Decently as I could, I told Bartleby that in six days' time he must unconditionally leave the office.  \",\n",
       " 'I warned him to take measures, in the interval, for procuring some other abode.  ',\n",
       " 'I offered to assist him in this endeavor,',\n",
       " 'if he himself would but take the first step towards a removal.  ',\n",
       " '\"And when you finally quit me, Bartleby,\" added I, \"I shall see that you go not away entirely unprovided.  ',\n",
       " 'you have removed your things from these offices, Bartleby, you will of course lock the door--since every one is now gone for the day',\n",
       " 'Good-bye, Bartleby, and fare you well.\"',\n",
       " 'There was no vulgar bullying, no bravado of any sort, no choleric hectoring, and striding to and fro across the apartment, jerking out vehement commands for Bartleby to bundle himself off with his beggarly traps.  ',\n",
       " 'Without loudly bidding Bartleby depart--as an inferior genius might have done',\n",
       " 'One moment I thought it would prove a miserable failure, and Bartleby would be found all alive at my office as usual; the next moment it seemed certain that I should see his chair empty.  ',\n",
       " 'One moment I thought it would prove a miserable failure, and Bartleby would be found all alive at my office as usual; the next moment it seemed certain that I should see his chair empty.  ',\n",
       " 'Yes, as before I had prospectively assumed that Bartleby would depart, so now I might retrospectively assume that departed he was.  ',\n",
       " 'In the legitimate carrying out of this assumption, I might enter my office in a great hurry, and pretending not to see Bartleby at all, walk straight against him as if he were air.  ',\n",
       " 'In the legitimate carrying out of this assumption, I might enter my office in a great hurry, and pretending not to see Bartleby at all, walk straight against him as if he were air.  ',\n",
       " 'In the legitimate carrying out of this assumption, I might enter my office in a great hurry, and pretending not to see Bartleby at all, walk straight against him as if he were air.  ',\n",
       " 'It was hardly possible that Bartleby could withstand such an application of the doctrine of assumptions.  ',\n",
       " 'I resolved to argue the matter over with him again.',\n",
       " 'But when this old Adam of resentment rose in me and tempted me concerning Bartleby, I grappled him and threw him.  ',\n",
       " 'But when this old Adam of resentment rose in me and tempted me concerning Bartleby, I grappled him and threw him.  ',\n",
       " 'But when this old Adam of resentment rose in me and tempted me concerning Bartleby, I grappled him and threw him.  ',\n",
       " 'Bartleby, of his own free accord, would emerge from his hermitage, and take up some decided line of march in the direction of the door.  ',\n",
       " 'Bartleby, of his own free accord, would emerge from his hermitage, and take up some decided line of march in the direction of the door.  ',\n",
       " 'Bartleby, of his own free accord, would emerge from his hermitage, and take up some decided line of march in the direction of the door.  ',\n",
       " 'Gradually I slid into the persuasion that these troubles of mine touching the scrivener, had been all predestinated from eternity, and Bartleby was billeted upon me for some mysterious purpose of an all-wise Providence, which it was not for a mere mortal like me to fathom.  ',\n",
       " 'Yes, Bartleby, stay there behind your screen, thought I',\n",
       " \"Also, when a Reference was going on, and the room full of lawyers and witnesses and business was driving fast; some deeply occupied legal gentleman present, seeing Bartleby wholly unemployed, would request him to run round to his (the legal gentleman's) office and fetch some papers for him.  \",\n",
       " \"Also, when a Reference was going on, and the room full of lawyers and witnesses and business was driving fast; some deeply occupied legal gentleman present, seeing Bartleby wholly unemployed, would request him to run round to his (the legal gentleman's) office and fetch some papers for him.  \",\n",
       " \"Also, when a Reference was going on, and the room full of lawyers and witnesses and business was driving fast; some deeply occupied legal gentleman present, seeing Bartleby wholly unemployed, would request him to run round to his (the legal gentleman's) office and fetch some papers for him.  \",\n",
       " \"Also, when a Reference was going on, and the room full of lawyers and witnesses and business was driving fast; some deeply occupied legal gentleman present, seeing Bartleby wholly unemployed, would request him to run round to his (the legal gentleman's) office and fetch some papers for him.  \",\n",
       " 'Thereupon, Bartleby would tranquilly decline, and yet remain idle as before.  ',\n",
       " 'And as the idea came upon me of his possibly turning out a long-lived man, and keep occupying my chambers, and denying my authority; and perplexing my visitors; and scandalizing my professional reputation; and casting a general gloom over the premises; keeping soul and body together to the last upon his savings (for doubtless he spent but half a dime a day), and in the end perhaps outlive me, and claim possession of my office by right of his perpetual occupancy: as all these dark anticipations crowded upon me more and more, and my friends continually intruded their relentless remarks upon the apparition in my room; a great change was wrought in me.  ',\n",
       " 'And as the idea came upon me of his possibly turning out a long-lived man, and keep occupying my chambers, and denying my authority; and perplexing my visitors; and scandalizing my professional reputation; and casting a general gloom over the premises; keeping soul and body together to the last upon his savings (for doubtless he spent but half a dime a day), and in the end perhaps outlive me, and claim possession of my office by right of his perpetual occupancy: as all these dark anticipations crowded upon me more and more, and my friends continually intruded their relentless remarks upon the apparition in my room; a great change was wrought in me.  ',\n",
       " 'And as the idea came upon me of his possibly turning out a long-lived man, and keep occupying my chambers, and denying my authority; and perplexing my visitors; and scandalizing my professional reputation; and casting a general gloom over the premises; keeping soul and body together to the last upon his savings (for doubtless he spent but half a dime a day), and in the end perhaps outlive me, and claim possession of my office by right of his perpetual occupancy: as all these dark anticipations crowded upon me more and more, and my friends continually intruded their relentless remarks upon the apparition in my room; a great change was wrought in me.  ',\n",
       " 'And as the idea came upon me of his possibly turning out a long-lived man, and keep occupying my chambers, and denying my authority; and perplexing my visitors; and scandalizing my professional reputation; and casting a general gloom over the premises; keeping soul and body together to the last upon his savings (for doubtless he spent but half a dime a day), and in the end perhaps outlive me, and claim possession of my office by right of his perpetual occupancy: as all these dark anticipations crowded upon me more and more, and my friends continually intruded their relentless remarks upon the apparition in my room; a great change was wrought in me.  ',\n",
       " 'Ere revolving any complicated project, however, adapted to this end, I first simply suggested to Bartleby the propriety of his permanent departure.  ',\n",
       " 'Ere revolving any complicated project, however, adapted to this end, I first simply suggested to Bartleby the propriety of his permanent departure.  ',\n",
       " 'In a calm and serious tone, I commended the idea to his careful and mature consideration.  ',\n",
       " 'But having taken three days to meditate upon it, he apprised me that his original determination remained the same in short, that he still preferred to abide with me.',\n",
       " 'But having taken three days to meditate upon it, he apprised me that his original determination remained the same in short, that he still preferred to abide with me.',\n",
       " 'But having taken three days to meditate upon it, he apprised me that his original determination remained the same in short, that he still preferred to abide with me.',\n",
       " '\"It was not I that brought you here, Bartleby,\" said I, keenly pained at his implied suspicion.  ',\n",
       " '\"It was not I that brought you here, Bartleby,\" said I, keenly pained at his implied suspicion.  ']"
      ]
     },
     "execution_count": 64,
     "metadata": {},
     "output_type": "execute_result"
    }
   ],
   "source": [
    "bart_sent_mentions"
   ]
  },
  {
   "cell_type": "code",
   "execution_count": 63,
   "metadata": {},
   "outputs": [
    {
     "data": {
      "text/plain": [
       "148"
      ]
     },
     "execution_count": 63,
     "metadata": {},
     "output_type": "execute_result"
    }
   ],
   "source": [
    "Bart_mentions["
   ]
  },
  {
   "cell_type": "code",
   "execution_count": null,
   "metadata": {},
   "outputs": [],
   "source": []
  },
  {
   "cell_type": "code",
   "execution_count": null,
   "metadata": {},
   "outputs": [],
   "source": [
    "bart_sent_mentions"
   ]
  },
  {
   "cell_type": "markdown",
   "metadata": {},
   "source": [
    "#### Below is some first pass testing that is commented out."
   ]
  },
  {
   "cell_type": "code",
   "execution_count": null,
   "metadata": {},
   "outputs": [],
   "source": [
    "# '''\n",
    "# Split text into sentences\n",
    "# '''\n",
    "# def parse_into_sentences(fileName):\n",
    "#     with open(os.path.join(dataPath, fileName), \"r\") as txtFile:\n",
    "#         doc = txtFile.read()\n",
    "#     sentences = re.split('\\.|!|\\?', doc)   \n",
    "#     sentences = [sentence.replace(\"\\n\", \" \") for sentence in sentences]\n",
    "#     return sentences\n",
    "# '''\n",
    "# Split text into paragraphs\n",
    "# '''\n",
    "# def parse_into_pars(fileName):\n",
    "#     with open(os.path.join(dataPath, fileName), \"r\") as txtFile:\n",
    "#         doc = txtFile.read()\n",
    "#     pars = re.split('\\n\\s', doc)   \n",
    "#     pars = [par.replace(\"\\n\", \" \") for par in pars]\n",
    "#     return pars\n",
    "# '''\n",
    "# Create list of stop words (currently not used)\n",
    "# '''\n",
    "# def read_stopwords(filename):\n",
    "#     stopwords={}\n",
    "#     with open(filename) as file:\n",
    "#         for line in file:\n",
    "#             stopwords[line.rstrip()]=1\n",
    "#     return stopwords\n",
    "\n",
    "# '''\n",
    "# Clean sentences by removing trailing punctuation on words, \n",
    "# and converting to lowercase\n",
    "# '''\n",
    "# def clean_sentences(sentences, charsTOStrip = '\\\"\\', '):\n",
    "#     texts = [\n",
    "#         [word.strip(charsTOStrip) for word in sentence.lower().split()]\n",
    "#         for sentence in sentences]\n",
    "#     return texts"
   ]
  },
  {
   "cell_type": "code",
   "execution_count": null,
   "metadata": {
    "collapsed": true
   },
   "outputs": [],
   "source": []
  },
  {
   "cell_type": "code",
   "execution_count": null,
   "metadata": {},
   "outputs": [],
   "source": [
    "# '''\n",
    "# Convert list of neuralcoref.neuralcoref.Cluster objects \n",
    "# to list of dicts so that we can serialize it. \n",
    "# '''\n",
    "# def convert_clust_to_list_dict(clustList):\n",
    "#     dictList = []\n",
    "#     characters = {character : {\n",
    "#     \"aliases\" : set(),\n",
    "#     \"agent\" : [],\n",
    "#     \"patient\" : [],\n",
    "#     \"description\" : [],\n",
    "#     } for character in top_characters}\n",
    "    \n",
    "#     for idx, cluster in enumerate(clustList):\n",
    "#         mainSpan = cluster.main\n",
    "#         dictList.append({mainSpan.text.lower() : [{'start' : mention.start, 'end': mention.end, 'text' : mention.text}\n",
    "#                                            for mention in cluster.mentions]})\n",
    "#         characters[mainSpan.text.lower()] += 1\n",
    "#     return dictList, characters"
   ]
  },
  {
   "cell_type": "code",
   "execution_count": null,
   "metadata": {},
   "outputs": [],
   "source": [
    "# # Creating book data structure that we will use.\n",
    "# # For now it is just a dict, but maybe we can make it a class\n",
    "# def create_book_struct(fileName):\n",
    "    \n",
    "#     characters = collections.Counter()\n",
    "    \n",
    "#     time_start = time.time()\n",
    "\n",
    "#     # break file into paragraphs\n",
    "#     pars = parse_into_pars(fileName)\n",
    "#     #parse_into_sentences(fileName)\n",
    "\n",
    "#     # initialize book obj\n",
    "#     book = {}\n",
    "#     # Iterate over each sentence and \n",
    "#     for idx, sentence in enumerate(sentences):\n",
    "\n",
    "#         # Get sentence id and text\n",
    "#         book[idx] = {}\n",
    "#         book[idx]['text'] = sentence\n",
    "\n",
    "#         # Get coreference tags:\n",
    "#         doc = nlp(sentence)\n",
    "#         book[idx]['has_coref'] = doc._.has_coref\n",
    "#         if doc._.has_coref:\n",
    "#             coref_clusts, chars = convert_clust_to_list_dict(doc._.coref_clusters)\n",
    "#             book[idx]['coref_clusts'] = coref_clusts\n",
    "            \n",
    "#             characters += chars\n",
    "#         else:\n",
    "#             book[idx]['coref_clusts'] = []\n",
    "\n",
    "#         # Get POS tags:\n",
    "\n",
    "#         # this uses the pretrained BERT model:\n",
    "#         # book[idx][\"POS_tags\"] = nlp_token_class(sentence)\n",
    "\n",
    "#         # For now we will use Spacy pos tagging because it gives us more fine-grained labels:\n",
    "#         book[idx][\"POS_tags\"] = []\n",
    "#         for token in doc:\n",
    "#             book[idx][\"POS_tags\"].append({\n",
    "#                 'text' : token.text,\n",
    "#                 'lemma' : token.lemma_,\n",
    "#                 'pos' : token.pos_, \n",
    "#                 'tag' : token.tag_, \n",
    "#                 'dep' : token.dep_})\n",
    "#     time_end = time.time()\n",
    "#     print(\"Parsing book took \", round(time_end - time_start, 2), \" secs\")\n",
    "#     return book, characters"
   ]
  },
  {
   "cell_type": "code",
   "execution_count": null,
   "metadata": {},
   "outputs": [],
   "source": [
    "# book, characters = create_book_struct(fileName)"
   ]
  },
  {
   "cell_type": "code",
   "execution_count": null,
   "metadata": {},
   "outputs": [],
   "source": [
    "# def write_book_to_disk(book, outFileName):\n",
    "#     with open (os.path.join(dataPath, outFileName), 'w') as outFile:\n",
    "#         json.dump(book, outFile, separators=(',', ':'), indent=4)"
   ]
  },
  {
   "cell_type": "code",
   "execution_count": null,
   "metadata": {},
   "outputs": [],
   "source": [
    "# write_book_to_disk(book, outFileName)"
   ]
  },
  {
   "cell_type": "code",
   "execution_count": null,
   "metadata": {},
   "outputs": [],
   "source": [
    "# # Only get top n most mentioned characters. \n",
    "# # Probably we should replace this with some kind of \n",
    "# # filter based on the min number of mentions\n",
    "# most_common_n = 20\n",
    "# top_characters = characters.most_common()[:most_common_n]\n",
    "# top_characters = [top_character[0] for top_character in top_characters]"
   ]
  },
  {
   "cell_type": "code",
   "execution_count": null,
   "metadata": {},
   "outputs": [],
   "source": [
    "# doc = nlp('''\n",
    "# I am a rather elderly man.  The nature of my avocations for the last\n",
    "# thirty years has brought me into more than ordinary contact with what\n",
    "# would seem an interesting and somewhat singular set of men, of whom as\n",
    "# yet nothing that I know of has ever been written:--I mean the\n",
    "# law-copyists or scriveners.  I have known very many of them,\n",
    "# professionally and privately, and if I pleased, could relate divers\n",
    "# histories, at which good-natured gentlemen might smile, and sentimental\n",
    "# souls might weep.  But I waive the biographies of all other scriveners\n",
    "# for a few passages in the life of Bartleby, who was a scrivener of the\n",
    "# strangest I ever saw or heard of.  While of other law-copyists I might\n",
    "# write the complete life, of Bartleby nothing of that sort can be done.\n",
    "# I believe that no materials exist for a full and satisfactory biography\n",
    "# of this man.  It is an irreparable loss to literature.  Bartleby was one\n",
    "# of those beings of whom nothing is ascertainable, except from the\n",
    "# original sources, and in his case those are very small.  What my own\n",
    "# astonished eyes saw of Bartleby, _that_ is all I know of him, except,\n",
    "# indeed, one vague report which will appear in the sequel.\n",
    "# ''')\n",
    "\n",
    "# for token in doc:\n",
    "#     print(token.text, token.lemma_, token.pos_, token.tag_, token.dep_,\n",
    "#             token.shape_, token.is_alpha)"
   ]
  },
  {
   "cell_type": "code",
   "execution_count": 19,
   "metadata": {},
   "outputs": [
    {
     "data": {
      "application/vnd.jupyter.widget-view+json": {
       "model_id": "7fb5738235264811bb2fbc0cc9847076",
       "version_major": 2,
       "version_minor": 0
      },
      "text/plain": [
       "HBox(children=(HTML(value='Downloading'), FloatProgress(value=0.0, max=1208.0), HTML(value='')))"
      ]
     },
     "metadata": {},
     "output_type": "display_data"
    },
    {
     "name": "stdout",
     "output_type": "stream",
     "text": [
      "\n"
     ]
    },
    {
     "data": {
      "application/vnd.jupyter.widget-view+json": {
       "model_id": "ccae6fc78b3747fcb20d49820471628a",
       "version_major": 2,
       "version_minor": 0
      },
      "text/plain": [
       "HBox(children=(HTML(value='Downloading'), FloatProgress(value=0.0, max=791656.0), HTML(value='')))"
      ]
     },
     "metadata": {},
     "output_type": "display_data"
    },
    {
     "name": "stdout",
     "output_type": "stream",
     "text": [
      "\n"
     ]
    },
    {
     "data": {
      "application/vnd.jupyter.widget-view+json": {
       "model_id": "a75ca588e84b4ef18312af8bf46da477",
       "version_major": 2,
       "version_minor": 0
      },
      "text/plain": [
       "HBox(children=(HTML(value='Downloading'), FloatProgress(value=0.0, max=1786.0), HTML(value='')))"
      ]
     },
     "metadata": {},
     "output_type": "display_data"
    },
    {
     "name": "stdout",
     "output_type": "stream",
     "text": [
      "\n"
     ]
    },
    {
     "data": {
      "application/vnd.jupyter.widget-view+json": {
       "model_id": "ea1a60bc7d0341d0ba1d0165d887222e",
       "version_major": 2,
       "version_minor": 0
      },
      "text/plain": [
       "HBox(children=(HTML(value='Downloading'), FloatProgress(value=0.0, max=25.0), HTML(value='')))"
      ]
     },
     "metadata": {},
     "output_type": "display_data"
    },
    {
     "name": "stdout",
     "output_type": "stream",
     "text": [
      "\n"
     ]
    },
    {
     "name": "stderr",
     "output_type": "stream",
     "text": [
      "/home/dmac/Documents/MIMS Coursework/Info 190 Comp Hum/Project/code/.env/lib/python3.8/site-packages/transformers/modeling_auto.py:781: FutureWarning: The class `AutoModelWithLMHead` is deprecated and will be removed in a future version. Please use `AutoModelForCausalLM` for causal language models, `AutoModelForMaskedLM` for masked language models and `AutoModelForSeq2SeqLM` for encoder-decoder models.\n",
      "  warnings.warn(\n"
     ]
    },
    {
     "data": {
      "application/vnd.jupyter.widget-view+json": {
       "model_id": "fa6d27de3e16407c958b6cfa40b21cab",
       "version_major": 2,
       "version_minor": 0
      },
      "text/plain": [
       "HBox(children=(HTML(value='Downloading'), FloatProgress(value=0.0, max=891692894.0), HTML(value='')))"
      ]
     },
     "metadata": {},
     "output_type": "display_data"
    },
    {
     "name": "stdout",
     "output_type": "stream",
     "text": [
      "\n"
     ]
    },
    {
     "name": "stderr",
     "output_type": "stream",
     "text": [
      "/home/dmac/Documents/MIMS Coursework/Info 190 Comp Hum/Project/code/.env/lib/python3.8/site-packages/transformers/tokenization_t5.py:184: UserWarning: This sequence already has </s>. In future versions this behavior may lead to duplicated eos tokens being added.\n",
      "  warnings.warn(\n"
     ]
    },
    {
     "data": {
      "text/plain": [
       "'sadness'"
      ]
     },
     "execution_count": 19,
     "metadata": {},
     "output_type": "execute_result"
    }
   ],
   "source": [
    "from transformers import AutoTokenizer, AutoModelWithLMHead\n",
    "\n",
    "tokenizer = AutoTokenizer.from_pretrained(\"mrm8488/t5-base-finetuned-emotion\")\n",
    "\n",
    "model = AutoModelWithLMHead.from_pretrained(\"mrm8488/t5-base-finetuned-emotion\")\n"
   ]
  },
  {
   "cell_type": "code",
   "execution_count": 36,
   "metadata": {},
   "outputs": [
    {
     "data": {
      "text/plain": [
       "'joy'"
      ]
     },
     "execution_count": 36,
     "metadata": {},
     "output_type": "execute_result"
    }
   ],
   "source": [
    "def get_emotion(text):\n",
    "    input_ids = tokenizer.encode(text + '</s>', return_tensors='pt')\n",
    "\n",
    "    output = model.generate(input_ids=input_ids,\n",
    "               max_length=2)\n",
    "\n",
    "    dec = [tokenizer.decode(ids) for ids in output]\n",
    "    label = dec[0]\n",
    "    return label\n",
    "\n",
    "get_emotion(\"i feel as if i havent blogged in ages are at least truly blogged i am doing an update cute\") # Output: 'joy'\n",
    "\n",
    "#get_emotion(\"i have a feeling i kinda lost my best friend\") # Output: 'sadness'"
   ]
  },
  {
   "cell_type": "code",
   "execution_count": null,
   "metadata": {},
   "outputs": [],
   "source": []
  }
 ],
 "metadata": {
  "kernelspec": {
   "display_name": ".env",
   "language": "python",
   "name": ".env"
  },
  "language_info": {
   "codemirror_mode": {
    "name": "ipython",
    "version": 3
   },
   "file_extension": ".py",
   "mimetype": "text/x-python",
   "name": "python",
   "nbconvert_exporter": "python",
   "pygments_lexer": "ipython3",
   "version": "3.8.5"
  }
 },
 "nbformat": 4,
 "nbformat_minor": 4
}
