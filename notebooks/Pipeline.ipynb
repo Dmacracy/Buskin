{
 "cells": [
  {
   "cell_type": "code",
   "execution_count": 2,
   "metadata": {},
   "outputs": [],
   "source": [
    "import sys\n",
    "\n",
    "%load_ext autoreload\n",
    "%autoreload 2\n",
    "    \n",
    "sys.path.append('../scripts/')\n",
    "from entities import *\n",
    "from commands import *\n"
   ]
  },
  {
   "cell_type": "code",
   "execution_count": 3,
   "metadata": {},
   "outputs": [
    {
     "name": "stdout",
     "output_type": "stream",
     "text": [
      "===================Begin Parsing======================\n",
      "Sentences and Coref obtained : 9.523380279541016\n",
      "Emotions obtained : 7.794719219207764\n",
      "\n",
      "Sentences : 2529, characters : 161\n",
      "Processing_time : 17.318172216415405\n",
      "===================End Parsing======================\n"
     ]
    }
   ],
   "source": [
    "book = parse_book('../../datasets/Gutenberg/txt/Charles Dickens___A Christmas Carol.txt', verbose=True, \\\n",
    "              threads=8, batch_size=8)"
   ]
  },
  {
   "cell_type": "code",
   "execution_count": 24,
   "metadata": {},
   "outputs": [],
   "source": [
    "import bz2\n",
    "import _pickle as cPickle\n",
    "book_dict = book.to_dict()\n",
    "\n",
    "with bz2.BZ2File('res.pbz2', 'w') as f: \n",
    "    cPickle.dump(book_dict, f)\n",
    "\n",
    "with bz2.BZ2File('res.pbz2', 'r') as f: \n",
    "    book_recovered = cPickle.load(f)\n",
    "\n",
    "assert book_dict==book_recovered"
   ]
  },
  {
   "cell_type": "code",
   "execution_count": null,
   "metadata": {
    "scrolled": true
   },
   "outputs": [],
   "source": []
  },
  {
   "cell_type": "code",
   "execution_count": null,
   "metadata": {},
   "outputs": [],
   "source": []
  }
 ],
 "metadata": {
  "kernelspec": {
   "display_name": "Python 3",
   "language": "python",
   "name": "python3"
  },
  "language_info": {
   "codemirror_mode": {
    "name": "ipython",
    "version": 3
   },
   "file_extension": ".py",
   "mimetype": "text/x-python",
   "name": "python",
   "nbconvert_exporter": "python",
   "pygments_lexer": "ipython3",
   "version": "3.8.5"
  }
 },
 "nbformat": 4,
 "nbformat_minor": 4
}
