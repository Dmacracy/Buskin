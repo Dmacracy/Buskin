{
 "cells": [
  {
   "cell_type": "code",
   "execution_count": 5,
   "metadata": {},
   "outputs": [
    {
     "name": "stdout",
     "output_type": "stream",
     "text": [
      "The autoreload extension is already loaded. To reload it, use:\n",
      "  %reload_ext autoreload\n"
     ]
    },
    {
     "name": "stderr",
     "output_type": "stream",
     "text": [
      "[autoreload of commands failed: Traceback (most recent call last):\n",
      "  File \"/home/dmac/Documents/MIMS Coursework/Info 190 Comp Hum/Project/code/.env/lib/python3.8/site-packages/IPython/extensions/autoreload.py\", line 245, in check\n",
      "    superreload(m, reload, self.old_objects)\n",
      "  File \"/home/dmac/Documents/MIMS Coursework/Info 190 Comp Hum/Project/code/.env/lib/python3.8/site-packages/IPython/extensions/autoreload.py\", line 394, in superreload\n",
      "    module = reload(module)\n",
      "  File \"/usr/lib/python3.8/imp.py\", line 314, in reload\n",
      "    return importlib.reload(module)\n",
      "  File \"/usr/lib/python3.8/importlib/__init__.py\", line 169, in reload\n",
      "    _bootstrap._exec(spec, module)\n",
      "  File \"<frozen importlib._bootstrap>\", line 604, in _exec\n",
      "  File \"<frozen importlib._bootstrap_external>\", line 783, in exec_module\n",
      "  File \"<frozen importlib._bootstrap>\", line 219, in _call_with_frames_removed\n",
      "  File \"../scripts/commands.py\", line 20, in <module>\n",
      "    model = BertForSequenceClassification.from_pretrained(\"monologg/bert-base-cased-goemotions-original\", return_dict=True).to('cuda')\n",
      "  File \"/home/dmac/Documents/MIMS Coursework/Info 190 Comp Hum/Project/code/.env/lib/python3.8/site-packages/torch/nn/modules/module.py\", line 607, in to\n",
      "    return self._apply(convert)\n",
      "  File \"/home/dmac/Documents/MIMS Coursework/Info 190 Comp Hum/Project/code/.env/lib/python3.8/site-packages/torch/nn/modules/module.py\", line 354, in _apply\n",
      "    module._apply(fn)\n",
      "RuntimeError: CUDA out of memory. Tried to allocate 86.00 MiB (GPU 0; 5.93 GiB total capacity; 413.76 MiB already allocated; 57.56 MiB free; 468.00 MiB reserved in total by PyTorch)\n",
      "]\n"
     ]
    }
   ],
   "source": [
    "import sys\n",
    "\n",
    "%load_ext autoreload\n",
    "%autoreload 2\n",
    "    \n",
    "sys.path.append('../scripts/')\n",
    "from entities import *\n",
    "from commands import *"
   ]
  },
  {
   "cell_type": "code",
   "execution_count": 53,
   "metadata": {},
   "outputs": [],
   "source": [
    "sentences, corefs = parse_into_sents_corefs((\"Bob is a postman. He likes to read. Tom hit Carlos. Carlos hates Tom. Carlos is funny.\", 0))"
   ]
  },
  {
   "cell_type": "code",
   "execution_count": 54,
   "metadata": {},
   "outputs": [
    {
     "data": {
      "text/plain": [
       "[Sentence(sentence_id=0, cluster_id=0, global_token_start=0, text='Bob is a postman.', token_tags=[TOKEN_TAGS(token_id=0, token_global_id=0, token='Bob', lemma='Bob', pos='PROPN', tag='PROPN', dep='nsubj', head_global_id=1), TOKEN_TAGS(token_id=1, token_global_id=1, token='is', lemma='be', pos='AUX', tag='AUX', dep='ROOT', head_global_id=1), TOKEN_TAGS(token_id=2, token_global_id=2, token='a', lemma='a', pos='DET', tag='DET', dep='det', head_global_id=3), TOKEN_TAGS(token_id=3, token_global_id=3, token='postman', lemma='postman', pos='NOUN', tag='NOUN', dep='attr', head_global_id=1), TOKEN_TAGS(token_id=4, token_global_id=4, token='.', lemma='.', pos='PUNCT', tag='PUNCT', dep='punct', head_global_id=1)], emotion_tags=Emotion(emotion=None, mini_emotion=None, probability=None)),\n",
       " Sentence(sentence_id=1, cluster_id=0, global_token_start=5, text='He likes to read.', token_tags=[TOKEN_TAGS(token_id=0, token_global_id=5, token='He', lemma='-PRON-', pos='PRON', tag='PRON', dep='nsubj', head_global_id=6), TOKEN_TAGS(token_id=1, token_global_id=6, token='likes', lemma='like', pos='VERB', tag='VERB', dep='ROOT', head_global_id=6), TOKEN_TAGS(token_id=2, token_global_id=7, token='to', lemma='to', pos='PART', tag='PART', dep='aux', head_global_id=8), TOKEN_TAGS(token_id=3, token_global_id=8, token='read', lemma='read', pos='VERB', tag='VERB', dep='xcomp', head_global_id=6), TOKEN_TAGS(token_id=4, token_global_id=9, token='.', lemma='.', pos='PUNCT', tag='PUNCT', dep='punct', head_global_id=6)], emotion_tags=Emotion(emotion=None, mini_emotion=None, probability=None)),\n",
       " Sentence(sentence_id=2, cluster_id=0, global_token_start=10, text='Tom hit Carlos.', token_tags=[TOKEN_TAGS(token_id=0, token_global_id=10, token='Tom', lemma='Tom', pos='PROPN', tag='PROPN', dep='nsubj', head_global_id=11), TOKEN_TAGS(token_id=1, token_global_id=11, token='hit', lemma='hit', pos='VERB', tag='VERB', dep='ROOT', head_global_id=11), TOKEN_TAGS(token_id=2, token_global_id=12, token='Carlos', lemma='Carlos', pos='PROPN', tag='PROPN', dep='dobj', head_global_id=11), TOKEN_TAGS(token_id=3, token_global_id=13, token='.', lemma='.', pos='PUNCT', tag='PUNCT', dep='punct', head_global_id=11)], emotion_tags=Emotion(emotion=None, mini_emotion=None, probability=None)),\n",
       " Sentence(sentence_id=3, cluster_id=0, global_token_start=14, text='Carlos hates Tom.', token_tags=[TOKEN_TAGS(token_id=0, token_global_id=14, token='Carlos', lemma='Carlos', pos='PROPN', tag='PROPN', dep='nsubj', head_global_id=15), TOKEN_TAGS(token_id=1, token_global_id=15, token='hates', lemma='hate', pos='VERB', tag='VERB', dep='ROOT', head_global_id=15), TOKEN_TAGS(token_id=2, token_global_id=16, token='Tom', lemma='Tom', pos='PROPN', tag='PROPN', dep='dobj', head_global_id=15), TOKEN_TAGS(token_id=3, token_global_id=17, token='.', lemma='.', pos='PUNCT', tag='PUNCT', dep='punct', head_global_id=15)], emotion_tags=Emotion(emotion=None, mini_emotion=None, probability=None)),\n",
       " Sentence(sentence_id=4, cluster_id=0, global_token_start=18, text='Carlos is funny.', token_tags=[TOKEN_TAGS(token_id=0, token_global_id=18, token='Carlos', lemma='Carlos', pos='PROPN', tag='PROPN', dep='nsubj', head_global_id=19), TOKEN_TAGS(token_id=1, token_global_id=19, token='is', lemma='be', pos='AUX', tag='AUX', dep='ROOT', head_global_id=19), TOKEN_TAGS(token_id=2, token_global_id=20, token='funny', lemma='funny', pos='ADJ', tag='ADJ', dep='acomp', head_global_id=19), TOKEN_TAGS(token_id=3, token_global_id=21, token='.', lemma='.', pos='PUNCT', tag='PUNCT', dep='punct', head_global_id=19)], emotion_tags=Emotion(emotion=None, mini_emotion=None, probability=None))]"
      ]
     },
     "execution_count": 54,
     "metadata": {},
     "output_type": "execute_result"
    }
   ],
   "source": [
    "sentences"
   ]
  },
  {
   "cell_type": "code",
   "execution_count": 55,
   "metadata": {},
   "outputs": [
    {
     "data": {
      "text/plain": [
       "{'bob': {'mentions': [('bob', 0), ('he', 1)],\n",
       "  'agents': [('be', 0), ('like', 1)],\n",
       "  'patients': [],\n",
       "  'preds': [('postman', 0)]},\n",
       " 'tom': {'mentions': [('tom', 2), ('tom', 3)],\n",
       "  'agents': [('hit', 2)],\n",
       "  'patients': [('hate', 3)],\n",
       "  'preds': []},\n",
       " 'carlos': {'mentions': [('carlos', 2), ('carlos', 3), ('carlos', 4)],\n",
       "  'agents': [('hate', 3), ('be', 4)],\n",
       "  'patients': [('hit', 2)],\n",
       "  'preds': [('funny', 4)]}}"
      ]
     },
     "execution_count": 55,
     "metadata": {},
     "output_type": "execute_result"
    }
   ],
   "source": [
    "corefs"
   ]
  },
  {
   "cell_type": "code",
   "execution_count": null,
   "metadata": {},
   "outputs": [],
   "source": []
  }
 ],
 "metadata": {
  "kernelspec": {
   "display_name": ".env",
   "language": "python",
   "name": ".env"
  },
  "language_info": {
   "codemirror_mode": {
    "name": "ipython",
    "version": 3
   },
   "file_extension": ".py",
   "mimetype": "text/x-python",
   "name": "python",
   "nbconvert_exporter": "python",
   "pygments_lexer": "ipython3",
   "version": "3.8.5"
  }
 },
 "nbformat": 4,
 "nbformat_minor": 4
}
