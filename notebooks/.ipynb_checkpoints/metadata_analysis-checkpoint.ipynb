{
 "cells": [
  {
   "cell_type": "code",
   "execution_count": 2,
   "metadata": {},
   "outputs": [],
   "source": [
    "import json, os\n",
    "from shutil import copyfile\n"
   ]
  },
  {
   "cell_type": "code",
   "execution_count": 11,
   "metadata": {},
   "outputs": [],
   "source": [
    "local_books = os.listdir('../datasets/Gutenberg/txt')\n",
    "auths = {}\n",
    "for ele in local_books:\n",
    "    if '.txt' in ele:\n",
    "        author = ele.split('.txt')[0].split('___')[0]\n",
    "        title = ele.split('.txt')[0].split('___')[1]\n",
    "        if author in auths:\n",
    "            auths[author].append(title)\n",
    "        else:\n",
    "            auths[author] = [title]"
   ]
  },
  {
   "cell_type": "code",
   "execution_count": 17,
   "metadata": {},
   "outputs": [],
   "source": [
    "with open('../datasets/Gutenberg/gutenberg-metadata.json','r') as fob:\n",
    "    raw = json.load(fob)\n",
    "\n",
    "local_meta = []\n",
    "    \n",
    "for idx in raw.keys():\n",
    "    book = raw[idx]\n",
    "    book['idx'] = int(idx)\n",
    "    if len(book['author'])==0 or len(book['title'])==0:\n",
    "        continue\n",
    "    \n",
    "    author = ' '.join([x for x in reversed(book['author'][0].split(', '))])\n",
    "    title = book['title'][0]\n",
    "    languages = book['language']\n",
    "    subject_mixed = '|'.join(book['subject']).lower()\n",
    "    \n",
    "    if author in auths:\n",
    "        auth_subset = auths[author]\n",
    "    else:\n",
    "        continue\n",
    "    for eles in auth_subset:\n",
    "        if title in eles or eles in title:    \n",
    "            bigtitle = f'{author}___{eles}.txt'\n",
    "            book['filename'] = bigtitle\n",
    "            if 'fiction' in subject_mixed and 'en' in languages:    \n",
    "                if title in os.listdir('../datasets/Gutenberg/selected'):\n",
    "                    continue\n",
    "            \n",
    "                local_meta.append(book)\n",
    "                copyfile(f'../datasets/Gutenberg/txt/{bigtitle}', f'../datasets/Gutenberg/selected/{bigtitle}')\n",
    "                break\n",
    "\n",
    "with open('../datasets/Gutenberg/metadata-final.json','w') as fob:\n",
    "    json.dump(local_meta,fob)"
   ]
  },
  {
   "cell_type": "code",
   "execution_count": 18,
   "metadata": {},
   "outputs": [
    {
     "name": "stdout",
     "output_type": "stream",
     "text": [
      "1185\n"
     ]
    }
   ],
   "source": [
    "with open('../datasets/Gutenberg/metadata-final.json','r') as fob:\n",
    "    meta_books = json.load(fob)\n",
    "\n",
    "print(len(meta_books))\n"
   ]
  },
  {
   "cell_type": "code",
   "execution_count": null,
   "metadata": {},
   "outputs": [],
   "source": []
  }
 ],
 "metadata": {
  "kernelspec": {
   "display_name": "Python 3",
   "language": "python",
   "name": "python3"
  },
  "language_info": {
   "codemirror_mode": {
    "name": "ipython",
    "version": 3
   },
   "file_extension": ".py",
   "mimetype": "text/x-python",
   "name": "python",
   "nbconvert_exporter": "python",
   "pygments_lexer": "ipython3",
   "version": "3.8.3"
  }
 },
 "nbformat": 4,
 "nbformat_minor": 4
}
